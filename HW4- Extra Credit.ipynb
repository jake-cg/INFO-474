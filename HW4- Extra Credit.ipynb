{
 "cells": [
  {
   "cell_type": "code",
   "execution_count": 1,
   "metadata": {},
   "outputs": [],
   "source": [
    "import pandas as pd\n",
    "\n",
    "pop = pd.read_csv(\"./population.csv\")\n",
    "fert = pd.read_csv(\"./fertility_rates.csv\")\n",
    "life = pd.read_csv(\"./life_expectancy.csv\")"
   ]
  },
  {
   "cell_type": "code",
   "execution_count": 2,
   "metadata": {},
   "outputs": [],
   "source": [
    "fert_filter = fert.loc[fert['SUBJECT'] == \"TOT\"]\n",
    "del fert_filter['INDICATOR']\n",
    "del fert_filter['SUBJECT']\n",
    "del fert_filter['MEASURE']\n",
    "del fert_filter['FREQUENCY']\n",
    "del fert_filter['Flag Codes']\n",
    "\n",
    "life_filter = life.loc[life['SUBJECT'] == \"TOT\"]\n",
    "del life_filter['INDICATOR']\n",
    "del life_filter['SUBJECT']\n",
    "del life_filter['MEASURE']\n",
    "del life_filter['FREQUENCY']\n",
    "del life_filter['Flag Codes']\n",
    "\n",
    "pop_filter = pop.loc[pop['MEASURE'] == \"MLN_PER\"]\n",
    "pop_filter = pop_filter.loc[pop_filter['SUBJECT'] == \"TOT\"]\n",
    "pop_filter = pop_filter.loc[pop_filter['TIME'] >= 1960]\n",
    "del pop_filter['INDICATOR']\n",
    "del pop_filter['SUBJECT']\n",
    "del pop_filter['MEASURE']\n",
    "del pop_filter['FREQUENCY']\n",
    "del pop_filter['Flag Codes']\n",
    "\n",
    "temp = pd.merge (pop_filter, fert_filter, on=[\"LOCATION\", \"TIME\"])\n",
    "final = pd.merge (temp, life_filter, on=[\"LOCATION\", \"TIME\"])\n",
    "\n",
    "final.columns = [\"location\", \"time\", \"pop_mlns\", \"fertility_rate\", \"life_expectancy\"]\n",
    "final = final[[\"location\", \"time\", \"life_expectancy\", \"fertility_rate\", \"pop_mlns\"]]\n",
    "\n",
    "final.head()\n",
    "\n",
    "final.to_csv(\"dataEveryYearManual.csv\")"
   ]
  }
 ],
 "metadata": {
  "kernelspec": {
   "display_name": "Python 3",
   "language": "python",
   "name": "python3"
  },
  "language_info": {
   "codemirror_mode": {
    "name": "ipython",
    "version": 3
   },
   "file_extension": ".py",
   "mimetype": "text/x-python",
   "name": "python",
   "nbconvert_exporter": "python",
   "pygments_lexer": "ipython3",
   "version": "3.6.3"
  }
 },
 "nbformat": 4,
 "nbformat_minor": 2
}
